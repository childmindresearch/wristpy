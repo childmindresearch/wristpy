{
 "cells": [
  {
   "cell_type": "code",
   "execution_count": 1,
   "metadata": {},
   "outputs": [],
   "source": [
    "import sys\n",
    "\n",
    "sys.path.append('/Users/adam.santorelli/lib/pygt3x/')\n",
    "sys.path.append('/Users/adam.santorelli/lib/')\n",
    "sys.path.append('/Users/adam.santorelli/lib/wristpy/')\n",
    "sys.path.append('/Users/adam.santorelli/lib/wristpy/src/wristpy/')\n",
    "\n",
    "import calendar\n",
    "import os\n",
    "from datetime import datetime, timedelta\n",
    "from typing import Any\n",
    "\n",
    "import numpy as np\n",
    "import pandas as pd\n",
    "import polars as pl\n",
    "\n"
   ]
  },
  {
   "cell_type": "code",
   "execution_count": 2,
   "metadata": {},
   "outputs": [
    {
     "name": "stdout",
     "output_type": "stream",
     "text": [
      "Obtaining file:///Users/adam.santorelli/lib/wristpy\n",
      "  Installing build dependencies ... \u001b[?25ldone\n",
      "\u001b[?25h  Checking if build backend supports build_editable ... \u001b[?25ldone\n",
      "\u001b[?25h  Getting requirements to build editable ... \u001b[?25ldone\n",
      "\u001b[?25h  Preparing editable metadata (pyproject.toml) ... \u001b[?25ldone\n",
      "\u001b[?25hRequirement already satisfied: polars<0.21.0,>=0.20.6 in /Users/adam.santorelli/anaconda3/lib/python3.11/site-packages (from wristpy==0.1.0) (0.20.7)\n",
      "Requirement already satisfied: pygt3x==0.5.1 in /Users/adam.santorelli/anaconda3/lib/python3.11/site-packages (from wristpy==0.1.0) (0.5.1)\n",
      "Requirement already satisfied: numpy>=1.21.2 in /Users/adam.santorelli/anaconda3/lib/python3.11/site-packages (from pygt3x==0.5.1->wristpy==0.1.0) (1.24.3)\n",
      "Requirement already satisfied: pandas>=1.2.5 in /Users/adam.santorelli/anaconda3/lib/python3.11/site-packages (from pygt3x==0.5.1->wristpy==0.1.0) (2.0.3)\n",
      "Requirement already satisfied: python-dateutil>=2.8.2 in /Users/adam.santorelli/anaconda3/lib/python3.11/site-packages (from pandas>=1.2.5->pygt3x==0.5.1->wristpy==0.1.0) (2.8.2)\n",
      "Requirement already satisfied: pytz>=2020.1 in /Users/adam.santorelli/anaconda3/lib/python3.11/site-packages (from pandas>=1.2.5->pygt3x==0.5.1->wristpy==0.1.0) (2023.3.post1)\n",
      "Requirement already satisfied: tzdata>=2022.1 in /Users/adam.santorelli/anaconda3/lib/python3.11/site-packages (from pandas>=1.2.5->pygt3x==0.5.1->wristpy==0.1.0) (2023.3)\n",
      "Requirement already satisfied: six>=1.5 in /Users/adam.santorelli/anaconda3/lib/python3.11/site-packages (from python-dateutil>=2.8.2->pandas>=1.2.5->pygt3x==0.5.1->wristpy==0.1.0) (1.16.0)\n",
      "Building wheels for collected packages: wristpy\n",
      "  Building editable for wristpy (pyproject.toml) ... \u001b[?25ldone\n",
      "\u001b[?25h  Created wheel for wristpy: filename=wristpy-0.1.0-py3-none-any.whl size=11901 sha256=a8ef2275e5226830f7d7f2f03a24017103da0cdfaee311fee1b249c00e9d8794\n",
      "  Stored in directory: /private/var/folders/5w/nz07xc215vv587tk6xcmwdg40000gq/T/pip-ephem-wheel-cache-5jps19ge/wheels/f5/62/c3/9c628b38fd17d2883865753005ffb35a450c56a42799ed8f40\n",
      "Successfully built wristpy\n",
      "Installing collected packages: wristpy\n",
      "  Attempting uninstall: wristpy\n",
      "    Found existing installation: wristpy 0.1.0\n",
      "    Uninstalling wristpy-0.1.0:\n",
      "      Successfully uninstalled wristpy-0.1.0\n",
      "Successfully installed wristpy-0.1.0\n",
      "Note: you may need to restart the kernel to use updated packages.\n"
     ]
    }
   ],
   "source": [
    "pip install -e \"/Users/adam.santorelli/lib/wristpy/\""
   ]
  },
  {
   "cell_type": "code",
   "execution_count": 3,
   "metadata": {},
   "outputs": [],
   "source": [
    "file_name = '/Users/adam.santorelli/Documents/NDARAA948MFH.gt3x'\n"
   ]
  },
  {
   "cell_type": "code",
   "execution_count": 4,
   "metadata": {},
   "outputs": [],
   "source": [
    "import wristpy"
   ]
  },
  {
   "cell_type": "code",
   "execution_count": 36,
   "metadata": {},
   "outputs": [],
   "source": [
    "from wristpy.common import data_model"
   ]
  },
  {
   "cell_type": "code",
   "execution_count": 6,
   "metadata": {},
   "outputs": [],
   "source": [
    "from wristpy.io.loaders import gt3x"
   ]
  },
  {
   "cell_type": "code",
   "execution_count": 7,
   "metadata": {},
   "outputs": [
    {
     "data": {
      "text/plain": [
       "'/Users/adam.santorelli/Documents/NDARAA948MFH.gt3x'"
      ]
     },
     "execution_count": 7,
     "metadata": {},
     "output_type": "execute_result"
    }
   ],
   "source": [
    "test_config = wristpy.common.data_model.Config(file_name, file_name)\n",
    "test_config.path_input"
   ]
  },
  {
   "cell_type": "code",
   "execution_count": 8,
   "metadata": {},
   "outputs": [],
   "source": [
    "test_data = gt3x.load(test_config.path_input)"
   ]
  },
  {
   "cell_type": "code",
   "execution_count": 9,
   "metadata": {},
   "outputs": [
    {
     "data": {
      "text/plain": [
       "array(['2017-10-10T12:05:00.000', '2017-10-10T12:05:00.033',\n",
       "       '2017-10-10T12:05:00.066', ..., '2017-12-06T16:35:59.900',\n",
       "       '2017-12-06T16:35:59.933', '2017-12-06T16:35:59.966'],\n",
       "      dtype='datetime64[ms]')"
      ]
     },
     "execution_count": 9,
     "metadata": {},
     "output_type": "execute_result"
    }
   ],
   "source": [
    "test_data.time"
   ]
  },
  {
   "cell_type": "code",
   "execution_count": 10,
   "metadata": {},
   "outputs": [
    {
     "data": {
      "text/html": [
       "<div><style>\n",
       ".dataframe > thead > tr,\n",
       ".dataframe > tbody > tr {\n",
       "  text-align: right;\n",
       "  white-space: pre-wrap;\n",
       "}\n",
       "</style>\n",
       "<small>shape: (148_231_800, 3)</small><table border=\"1\" class=\"dataframe\"><thead><tr><th>X</th><th>Y</th><th>Z</th></tr><tr><td>f32</td><td>f32</td><td>f32</td></tr></thead><tbody><tr><td>0.0</td><td>0.0625</td><td>-1.011719</td></tr><tr><td>-0.003906</td><td>0.03125</td><td>-1.0</td></tr><tr><td>-0.003906</td><td>0.0234375</td><td>-1.003906</td></tr><tr><td>0.0</td><td>0.027344</td><td>-1.007812</td></tr><tr><td>-0.003906</td><td>0.03125</td><td>-1.007812</td></tr><tr><td>-0.003906</td><td>0.027344</td><td>-1.007812</td></tr><tr><td>-0.007812</td><td>0.027344</td><td>-1.003906</td></tr><tr><td>-0.007812</td><td>0.0234375</td><td>-1.007812</td></tr><tr><td>0.0</td><td>0.0234375</td><td>-1.003906</td></tr><tr><td>0.0</td><td>0.027344</td><td>-1.007812</td></tr><tr><td>-0.003906</td><td>0.027344</td><td>-1.003906</td></tr><tr><td>-0.007812</td><td>0.019531</td><td>-1.003906</td></tr><tr><td>&hellip;</td><td>&hellip;</td><td>&hellip;</td></tr><tr><td>-0.511719</td><td>0.828125</td><td>-0.125</td></tr><tr><td>-0.515625</td><td>0.878906</td><td>-0.242188</td></tr><tr><td>-0.546875</td><td>0.8984375</td><td>-0.285156</td></tr><tr><td>-0.503906</td><td>0.84375</td><td>-0.3125</td></tr><tr><td>-0.40625</td><td>0.941406</td><td>-0.03125</td></tr><tr><td>-0.507812</td><td>0.886719</td><td>-0.160156</td></tr><tr><td>-0.480469</td><td>0.855469</td><td>-0.242188</td></tr><tr><td>-0.5</td><td>0.886719</td><td>-0.21875</td></tr><tr><td>-0.429688</td><td>0.855469</td><td>-0.203125</td></tr><tr><td>-0.488281</td><td>0.925781</td><td>-0.246094</td></tr><tr><td>-0.386719</td><td>0.7421875</td><td>-0.273438</td></tr><tr><td>-0.402344</td><td>0.621094</td><td>-0.25</td></tr></tbody></table></div>"
      ],
      "text/plain": [
       "shape: (148_231_800, 3)\n",
       "┌───────────┬───────────┬───────────┐\n",
       "│ X         ┆ Y         ┆ Z         │\n",
       "│ ---       ┆ ---       ┆ ---       │\n",
       "│ f32       ┆ f32       ┆ f32       │\n",
       "╞═══════════╪═══════════╪═══════════╡\n",
       "│ 0.0       ┆ 0.0625    ┆ -1.011719 │\n",
       "│ -0.003906 ┆ 0.03125   ┆ -1.0      │\n",
       "│ -0.003906 ┆ 0.0234375 ┆ -1.003906 │\n",
       "│ 0.0       ┆ 0.027344  ┆ -1.007812 │\n",
       "│ -0.003906 ┆ 0.03125   ┆ -1.007812 │\n",
       "│ …         ┆ …         ┆ …         │\n",
       "│ -0.5      ┆ 0.886719  ┆ -0.21875  │\n",
       "│ -0.429688 ┆ 0.855469  ┆ -0.203125 │\n",
       "│ -0.488281 ┆ 0.925781  ┆ -0.246094 │\n",
       "│ -0.386719 ┆ 0.7421875 ┆ -0.273438 │\n",
       "│ -0.402344 ┆ 0.621094  ┆ -0.25     │\n",
       "└───────────┴───────────┴───────────┘"
      ]
     },
     "execution_count": 10,
     "metadata": {},
     "output_type": "execute_result"
    }
   ],
   "source": [
    "test_data.acceleration"
   ]
  },
  {
   "cell_type": "code",
   "execution_count": 17,
   "metadata": {},
   "outputs": [
    {
     "data": {
      "text/plain": [
       "<module 'wristpy.ggir.calibration' from '/Users/adam.santorelli/lib/wristpy/src/wristpy/ggir/calibration.py'>"
      ]
     },
     "execution_count": 17,
     "metadata": {},
     "output_type": "execute_result"
    }
   ],
   "source": [
    "import importlib\n"
   ]
  },
  {
   "cell_type": "code",
   "execution_count": 44,
   "metadata": {},
   "outputs": [
    {
     "data": {
      "text/plain": [
       "<module 'wristpy.common.data_model' from '/Users/adam.santorelli/lib/wristpy/src/wristpy/common/data_model.py'>"
      ]
     },
     "execution_count": 44,
     "metadata": {},
     "output_type": "execute_result"
    }
   ],
   "source": [
    "importlib.reload(calibration)\n",
    "importlib.reload(data_model)"
   ]
  },
  {
   "cell_type": "code",
   "execution_count": 45,
   "metadata": {},
   "outputs": [],
   "source": [
    "from wristpy.ggir import metrics_calc\n",
    "from wristpy.ggir import calibration"
   ]
  },
  {
   "cell_type": "code",
   "execution_count": 99,
   "metadata": {},
   "outputs": [],
   "source": [
    "test_output = calibration.start_ggir_calibration(test_data)"
   ]
  },
  {
   "cell_type": "code",
   "execution_count": 100,
   "metadata": {},
   "outputs": [
    {
     "data": {
      "text/plain": [
       "OutputData(cal_acceleration=shape: (148_231_800, 3)\n",
       "┌───────────┬──────────┬───────────┐\n",
       "│ X         ┆ Y        ┆ Z         │\n",
       "│ ---       ┆ ---      ┆ ---       │\n",
       "│ f32       ┆ f32      ┆ f32       │\n",
       "╞═══════════╪══════════╪═══════════╡\n",
       "│ -0.000775 ┆ 0.04029  ┆ -1.005344 │\n",
       "│ -0.004682 ┆ 0.009244 ┆ -0.993599 │\n",
       "│ -0.004682 ┆ 0.001483 ┆ -0.997514 │\n",
       "│ -0.000775 ┆ 0.005364 ┆ -1.001429 │\n",
       "│ -0.004682 ┆ 0.009244 ┆ -1.001429 │\n",
       "│ …         ┆ …        ┆ …         │\n",
       "│ -0.500886 ┆ 0.85911  ┆ -0.210579 │\n",
       "│ -0.430558 ┆ 0.828065 ┆ -0.194918 │\n",
       "│ -0.489165 ┆ 0.897917 ┆ -0.237984 │\n",
       "│ -0.387579 ┆ 0.715526 ┆ -0.26539  │\n",
       "│ -0.403208 ┆ 0.595225 ┆ -0.241899 │\n",
       "└───────────┴──────────┴───────────┘, scale=shape: (3,)\n",
       "Series: '' [f64]\n",
       "[\n",
       "\t1.000222\n",
       "\t0.99345\n",
       "\t1.002266\n",
       "], offset=shape: (3,)\n",
       "Series: '' [f64]\n",
       "[\n",
       "\t-0.000775\n",
       "\t-0.021801\n",
       "\t0.008667\n",
       "], cal_error_end=0.00763, cal_error_start=0.01403, ENMO=shape: (0, 0)\n",
       "┌┐\n",
       "╞╡\n",
       "└┘, anglez=shape: (0, 0)\n",
       "┌┐\n",
       "╞╡\n",
       "└┘, time=array(['2017-10-10T12:05:00.000', '2017-10-10T12:05:00.033',\n",
       "       '2017-10-10T12:05:00.066', ..., '2017-12-06T16:35:59.900',\n",
       "       '2017-12-06T16:35:59.933', '2017-12-06T16:35:59.966'],\n",
       "      dtype='datetime64[ms]'))"
      ]
     },
     "execution_count": 100,
     "metadata": {},
     "output_type": "execute_result"
    }
   ],
   "source": [
    "test_output"
   ]
  },
  {
   "cell_type": "code",
   "execution_count": 48,
   "metadata": {},
   "outputs": [
    {
     "data": {
      "image/png": "[encoded data removed]",
      "text/plain": [
       "<Figure size 640x480 with 1 Axes>"
      ]
     },
     "metadata": {},
     "output_type": "display_data"
    }
   ],
   "source": [
    "from matplotlib import pyplot as plt \n",
    "\n",
    "plt.plot(test_data.time, test_data.acceleration['X'])\n",
    "plt.plot(test_output.time, test_output.cal_acceleration['X'])\n",
    "plt.show()"
   ]
  },
  {
   "cell_type": "code",
   "execution_count": 101,
   "metadata": {},
   "outputs": [
    {
     "data": {
      "text/plain": [
       "<module 'wristpy.ggir.metrics_calc' from '/Users/adam.santorelli/lib/wristpy/src/wristpy/ggir/metrics_calc.py'>"
      ]
     },
     "execution_count": 101,
     "metadata": {},
     "output_type": "execute_result"
    }
   ],
   "source": [
    "importlib.reload(metrics_calc)\n"
   ]
  },
  {
   "cell_type": "code",
   "execution_count": 102,
   "metadata": {},
   "outputs": [],
   "source": [
    "\n",
    "metrics_calc.calc_base_metrics(test_output)"
   ]
  },
  {
   "cell_type": "code",
   "execution_count": 104,
   "metadata": {},
   "outputs": [
    {
     "data": {
      "text/html": [
       "<div><style>\n",
       ".dataframe > thead > tr,\n",
       ".dataframe > tbody > tr {\n",
       "  text-align: right;\n",
       "  white-space: pre-wrap;\n",
       "}\n",
       "</style>\n",
       "<small>shape: (148_231_800, 1)</small><table border=\"1\" class=\"dataframe\"><thead><tr><th>enmo</th></tr><tr><td>f32</td></tr></thead><tbody><tr><td>0.006151</td></tr><tr><td>-0.006347</td></tr><tr><td>-0.002474</td></tr><tr><td>0.001444</td></tr><tr><td>0.001482</td></tr><tr><td>0.001454</td></tr><tr><td>-0.002435</td></tr><tr><td>0.001467</td></tr><tr><td>-0.002485</td></tr><tr><td>0.001444</td></tr><tr><td>-0.002461</td></tr><tr><td>-0.002446</td></tr><tr><td>&hellip;</td></tr><tr><td>-0.041978</td></tr><tr><td>0.022922</td></tr><tr><td>0.065395</td></tr><tr><td>0.007029</td></tr><tr><td>0.000314</td></tr><tr><td>0.009904</td></tr><tr><td>-0.014009</td></tr><tr><td>0.016514</td></tr><tr><td>-0.046551</td></tr><tr><td>0.049844</td></tr><tr><td>-0.144064</td></tr><tr><td>-0.241459</td></tr></tbody></table></div>"
      ],
      "text/plain": [
       "shape: (148_231_800, 1)\n",
       "┌───────────┐\n",
       "│ enmo      │\n",
       "│ ---       │\n",
       "│ f32       │\n",
       "╞═══════════╡\n",
       "│ 0.006151  │\n",
       "│ -0.006347 │\n",
       "│ -0.002474 │\n",
       "│ 0.001444  │\n",
       "│ 0.001482  │\n",
       "│ …         │\n",
       "│ 0.016514  │\n",
       "│ -0.046551 │\n",
       "│ 0.049844  │\n",
       "│ -0.144064 │\n",
       "│ -0.241459 │\n",
       "└───────────┘"
      ]
     },
     "execution_count": 104,
     "metadata": {},
     "output_type": "execute_result"
    }
   ],
   "source": [
    "test_output.enmo.rename({\"column_0\": \"enmo\"})"
   ]
  },
  {
   "cell_type": "code",
   "execution_count": 89,
   "metadata": {},
   "outputs": [],
   "source": [
    "sec5_mean = metrics_calc.moving_mean((test_output.enmo),test_output.time,30,5)"
   ]
  },
  {
   "cell_type": "code",
   "execution_count": 84,
   "metadata": {},
   "outputs": [
    {
     "data": {
      "image/png": "[encoded data removed]",
      "text/plain": [
       "<Figure size 640x480 with 1 Axes>"
      ]
     },
     "metadata": {},
     "output_type": "display_data"
    }
   ],
   "source": [
    "plt.plot(sec5_mean[\"window_start\"], sec5_mean[\"column_0_mean\"])\n",
    "plt.plot(test_output.time, test_output.enmo)\n",
    "plt.show()"
   ]
  },
  {
   "cell_type": "code",
   "execution_count": null,
   "metadata": {},
   "outputs": [],
   "source": [
    "ws = 10\n",
    "min_hours = 72"
   ]
  },
  {
   "cell_type": "code",
   "execution_count": null,
   "metadata": {},
   "outputs": [],
   "source": [
    "from warnings import warn\n",
    "\n",
    "accel_data = test_data.acceleration\n",
    "time_data = test_data.time\n",
    "s_r = test_data.sampling_rate\n",
    "\n",
    "#n10 = int(10 * s_r)  # samples in 10 seconds, not used because hardcoded 10s\n",
    "nh = int(min_hours* 3600 * s_r)  # samples in min_hours\n",
    "n12h = int(12 * 3600 * s_r)  # samples in 12 hours\n",
    "\n",
    "i_h = 0  # keep track of number of extra 12 hour blocks used\n",
    "\n",
    "    # check if enough data\n",
    "if accel_data.height < nh:\n",
    "    warn(\n",
    "            f\"Less than {min_hours} hours of data ({accel_data.height / (s_r * 3600)} hours). \"\n",
    "            f\"No Calibration performed\",\n",
    "            UserWarning,\n",
    "        )\n",
    "\n",
    "\n"
   ]
  },
  {
   "cell_type": "code",
   "execution_count": null,
   "metadata": {},
   "outputs": [],
   "source": [
    "    # trim accel data\n",
    "#i_h += 1\n",
    "accel_data_trimmed = accel_data[: nh + i_h * n12h]\n",
    "time_data_trimmed = time_data[: nh + i_h * n12h]"
   ]
  },
  {
   "cell_type": "code",
   "execution_count": null,
   "metadata": {},
   "outputs": [],
   "source": [
    "RM = metrics_calc.moving_mean(accel_data_trimmed, time_data_trimmed, s_r, 10)\n",
    "acc_rm = RM.select(['X_mean','Y_mean','Z_mean'])\n",
    "\n",
    "RSD = metrics_calc.moving_std(accel_data_trimmed, time_data_trimmed, s_r, 10)\n",
    "acc_rsd = RSD.select(['X_std','Y_std','Z_std'])"
   ]
  },
  {
   "cell_type": "code",
   "execution_count": null,
   "metadata": {},
   "outputs": [],
   "source": [
    "from matplotlib import pyplot as plt\n",
    "#plt.plot(test_data.time, accel_data['X'])\n",
    "plt.plot(RM['window_start'], np.linalg.norm(acc_rm, axis=1))\n",
    "plt.show()"
   ]
  },
  {
   "cell_type": "code",
   "execution_count": null,
   "metadata": {},
   "outputs": [],
   "source": [
    "import sklearn.linear_model"
   ]
  },
  {
   "cell_type": "code",
   "execution_count": null,
   "metadata": {},
   "outputs": [],
   "source": [
    "sd_crit = 0.013\n",
    "no_motion = np.all(acc_rsd < sd_crit, axis=1) & np.all(np.abs(acc_rm) < 2, axis=1)"
   ]
  },
  {
   "cell_type": "code",
   "execution_count": null,
   "metadata": {},
   "outputs": [],
   "source": [
    "acc_rm_nm = acc_rm.filter(no_motion)\n",
    "acc_rsd_nm = acc_rsd.filter(no_motion)"
   ]
  },
  {
   "cell_type": "code",
   "execution_count": null,
   "metadata": {},
   "outputs": [],
   "source": [
    "\n",
    "tel = 0\n",
    "for col in acc_rm_nm.columns:\n",
    "    tmp = (acc_rm_nm[col].min()< -0.3) & (acc_rm_nm[col].max() > 0.3)\n",
    "    if tmp:\n",
    "        tel = tel+1"
   ]
  },
  {
   "cell_type": "code",
   "execution_count": null,
   "metadata": {},
   "outputs": [],
   "source": [
    "cal_err_start = np.round(np.mean(abs(np.linalg.norm(acc_rm_nm, axis=1) - 1)), decimals=5)"
   ]
  },
  {
   "cell_type": "code",
   "execution_count": null,
   "metadata": {},
   "outputs": [],
   "source": [
    "from sklearn.linear_model import LinearRegression"
   ]
  },
  {
   "cell_type": "code",
   "execution_count": null,
   "metadata": {},
   "outputs": [],
   "source": [
    "offset = pl.Series(np.zeros(3))\n",
    "scale = pl.Series(np.ones(3).flatten())\n",
    "tmp_scale = np.zeros((1, 3))\n",
    "\n",
    "weights = np.ones(acc_rm_nm.shape[0]) * 100\n",
    "res = [np.Inf]\n",
    "LR = LinearRegression()"
   ]
  },
  {
   "cell_type": "code",
   "execution_count": null,
   "metadata": {},
   "outputs": [],
   "source": [
    "##Method 1\n",
    "acc_nm_pd = acc_rm_nm.to_pandas()\n",
    "curr = (acc_nm_pd* scale) + offset"
   ]
  },
  {
   "cell_type": "code",
   "execution_count": null,
   "metadata": {},
   "outputs": [],
   "source": [
    "## Method 2\n",
    "scale = np.ones(3).reshape(3,1)\n",
    "check = acc_rm_nm.select([\n",
    "    (pl.col(column_name) * scale[i] + offset[i]).alias(column_name)\n",
    "    for i, column_name in enumerate(acc_rm_nm.columns)\n",
    "    ])\n",
    "check_pd = check.to_pandas()\n"
   ]
  },
  {
   "cell_type": "code",
   "execution_count": null,
   "metadata": {},
   "outputs": [],
   "source": [
    "max_iter = 1000\n",
    "tol = 1e-10\n",
    "weights = np.ones(curr.shape[0]) * 100\n",
    "res = [np.Inf]\n",
    "\n",
    "for i in range(max_iter): \n",
    "    curr = (acc_nm_pd * scale) + offset\n",
    "    closest_point = curr / np.linalg.norm(curr, axis=1, keepdims=True)\n",
    "    offsetch = np.zeros(3)\n",
    "    scalech = np.ones(3)\n",
    "    \n",
    "    for k in range(3):\n",
    "                # there was some code dropping NANs from closest point, but these should\n",
    "                # be taken care of in the original mask. Division by zero should also\n",
    "                # not be happening during motionless data, where 1 value should always be close\n",
    "                # to 1\n",
    "        x_ = np.vstack(\n",
    "                    (curr.iloc[:, k])\n",
    "                )  \n",
    "        tmp_y = np.vstack(\n",
    "                    (closest_point.iloc[:, k])\n",
    "                )\n",
    "        LR.fit(x_, tmp_y, sample_weight=weights)\n",
    "\n",
    "        offsetch[k] = LR.intercept_\n",
    "        scalech[k] = LR.coef_[0]\n",
    "        curr.iloc[:, k] = x_ @ LR.coef_\n",
    "    \n",
    "    scale = scalech * scale\n",
    "    offset = offsetch + (offset/scale)\n",
    "    res.append(3 * np.mean(weights[:, None] * (curr - closest_point) ** 2 / weights.sum()))\n",
    "    weights = np.minimum(1 / np.linalg.norm(curr - closest_point, axis=1), 100)\n",
    "\n",
    "    if abs(res[i] - res[i - 1]) < tol:\n",
    "        break\n",
    "    \n",
    "print(scale, offset, res)\n"
   ]
  },
  {
   "cell_type": "code",
   "execution_count": null,
   "metadata": {},
   "outputs": [],
   "source": [
    "\n",
    "acc_cal_pd = (acc_nm_pd* scale) + offset\n",
    "\n",
    "cal_error_end = np.around(np.mean(abs(np.linalg.norm(acc_cal_pd, axis=1) - 1)), decimals=5)\n",
    "cal_error_end"
   ]
  },
  {
   "cell_type": "code",
   "execution_count": null,
   "metadata": {},
   "outputs": [],
   "source": [
    "accel_cal_pd = (accel_data.to_pandas() * scale) + offset"
   ]
  },
  {
   "cell_type": "code",
   "execution_count": null,
   "metadata": {},
   "outputs": [],
   "source": [
    "## Method 2\n",
    "accel_cal = accel_data.select([\n",
    "    (pl.col(column_name) * scale[i] + offset[i]).alias(column_name)\n",
    "    for i, column_name in enumerate(accel_data.columns)\n",
    "    ])"
   ]
  },
  {
   "cell_type": "code",
   "execution_count": null,
   "metadata": {},
   "outputs": [],
   "source": [
    "tmp = accel_cal_pd-accel_data.to_pandas()"
   ]
  },
  {
   "cell_type": "code",
   "execution_count": null,
   "metadata": {},
   "outputs": [],
   "source": [
    "plt.plot(tmp['X'])\n",
    "plt.show()"
   ]
  },
  {
   "cell_type": "code",
   "execution_count": null,
   "metadata": {},
   "outputs": [],
   "source": []
  }
 ],
 "metadata": {
  "kernelspec": {
   "display_name": "base",
   "language": "python",
   "name": "python3"
  },
  "language_info": {
   "codemirror_mode": {
    "name": "ipython",
    "version": 3
   },
   "file_extension": ".py",
   "mimetype": "text/x-python",
   "name": "python",
   "nbconvert_exporter": "python",
   "pygments_lexer": "ipython3",
   "version": "3.11.7"
  }
 },
 "nbformat": 4,
 "nbformat_minor": 2
}
