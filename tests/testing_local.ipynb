{
 "cells": [
  {
   "cell_type": "code",
   "execution_count": 1,
   "metadata": {},
   "outputs": [],
   "source": [
    "import sys\n",
    "\n",
    "sys.path.append('/Users/adam.santorelli/lib/pygt3x/')\n",
    "sys.path.append('/Users/adam.santorelli/lib/')\n",
    "sys.path.append('/Users/adam.santorelli/lib/wristpy/src/actigrapy/common/')\n",
    "sys.path.append('/Users/adam.santorelli/lib/wristpy/src/actigrapy/io/')\n",
    "sys.path.append('/Users/adam.santorelli/lib/wristpy/src/actigrapy/ggir/')\n",
    "\n",
    "import calendar\n",
    "import os\n",
    "from datetime import datetime, timedelta\n",
    "from typing import Any\n",
    "\n",
    "import numpy as np\n",
    "import pandas as pd\n",
    "import polars as pl\n",
    "\n"
   ]
  },
  {
   "cell_type": "code",
   "execution_count": 27,
   "metadata": {},
   "outputs": [],
   "source": [
    "file_name = '/Users/adam.santorelli/Documents/NDARAA773LUW.gt3x'\n"
   ]
  },
  {
   "cell_type": "code",
   "execution_count": 3,
   "metadata": {},
   "outputs": [],
   "source": [
    "import data_model"
   ]
  },
  {
   "cell_type": "code",
   "execution_count": 28,
   "metadata": {},
   "outputs": [],
   "source": [
    "test_config = data_model.Config(file_name, file_name)"
   ]
  },
  {
   "cell_type": "code",
   "execution_count": 29,
   "metadata": {},
   "outputs": [
    {
     "data": {
      "text/plain": [
       "'/Users/adam.santorelli/Documents/NDARAA773LUW.gt3x'"
      ]
     },
     "execution_count": 29,
     "metadata": {},
     "output_type": "execute_result"
    }
   ],
   "source": [
    "test_config.path_input"
   ]
  },
  {
   "cell_type": "code",
   "execution_count": 6,
   "metadata": {},
   "outputs": [],
   "source": [
    "sys.path.append('/Users/adam.santorelli/lib/wristpy/src/actigrapy/io/loaders')\n",
    "import gt3x"
   ]
  },
  {
   "cell_type": "code",
   "execution_count": 30,
   "metadata": {},
   "outputs": [],
   "source": [
    "test_data = gt3x.load(test_config.path_input)"
   ]
  },
  {
   "cell_type": "code",
   "execution_count": null,
   "metadata": {},
   "outputs": [],
   "source": [
    "test_data.acceleration"
   ]
  },
  {
   "cell_type": "code",
   "execution_count": null,
   "metadata": {},
   "outputs": [],
   "source": [
    "from matplotlib import pyplot as plt\n"
   ]
  },
  {
   "cell_type": "code",
   "execution_count": null,
   "metadata": {},
   "outputs": [],
   "source": [
    "plt.plot(test_data.time[16000000:26000000])\n",
    "plt.show()"
   ]
  },
  {
   "cell_type": "code",
   "execution_count": null,
   "metadata": {},
   "outputs": [],
   "source": [
    "plt.plot(test_data.time, test_data.acceleration['Y'])\n",
    "plt.show()"
   ]
  },
  {
   "cell_type": "code",
   "execution_count": 49,
   "metadata": {},
   "outputs": [],
   "source": [
    "ws =51\n",
    "\n",
    "df_rolled = pl.DataFrame()\n",
    "df = test_data.acceleration\n",
    "    # Iterate over each column and apply the rolling median\n",
    "for col in df.columns:\n",
    "        rolled_col = df[col].rolling_median(window_size=ws, min_periods=1).alias(col)\n",
    "        df_rolled = df_rolled.with_columns(rolled_col)"
   ]
  },
  {
   "cell_type": "code",
   "execution_count": 126,
   "metadata": {},
   "outputs": [],
   "source": [
    "ws = 5\n",
    "\n",
    "time_df = pl.DataFrame(test_data.time)\n",
    "time_df = time_df.rename({\"column_0\": \"time\"})\n",
    "\n",
    "    # Join the time DataFrame with the original DataFrame\n",
    "full_df = pl.concat([df, time_df], how='horizontal')\n",
    "    # Calculate the number of samples per window based on the window size in seconds\n",
    "    \n",
    "samples_per_window = int(ws *test_data.sampling_rate)\n",
    "\n",
    "    # Ensure that the number of rows in the dataframe is a \n",
    "    #multiple of samples_per_window\n",
    "    \n"
   ]
  },
  {
   "cell_type": "code",
   "execution_count": 112,
   "metadata": {},
   "outputs": [],
   "source": [
    "num_rows = full_df.height\n",
    "num_full_windows = num_rows // samples_per_window\n",
    "trimmed_length = num_full_windows * samples_per_window\n",
    "\n",
    "    # Trim the dataframe to include only full windows\n",
    "trimmed_df = full_df.head(trimmed_length)"
   ]
  },
  {
   "cell_type": "code",
   "execution_count": 148,
   "metadata": {},
   "outputs": [],
   "source": [
    "#get window indexes and create window column with these indices\n",
    "trimmed_df.with_row_index().with_columns((pl.col('index') / samples_per_window)\n",
    "                                                      .cast(pl.Int32).alias('window'))\n",
    "\n",
    "#For each window, get the start time, and compute mean over all columns for those samples\n",
    "moving_mean_df = trimmed_df.group_by('window').agg([pl.col('time').first().alias('time'),\n",
    "            pl.all().exclude(['time', 'index']).mean().name.suffix('_mean')\n",
    "        ])"
   ]
  },
  {
   "cell_type": "code",
   "execution_count": 149,
   "metadata": {},
   "outputs": [
    {
     "data": {
      "image/png": "[encoded data removed]",
      "text/plain": [
       "<Figure size 640x480 with 1 Axes>"
      ]
     },
     "metadata": {},
     "output_type": "display_data"
    }
   ],
   "source": [
    "plt.plot(moving_mean_df['time'], moving_mean_df['X_mean'])\n",
    "plt.show()"
   ]
  },
  {
   "cell_type": "code",
   "execution_count": 131,
   "metadata": {},
   "outputs": [],
   "source": [
    "    # Compute the moving standard deviation for each window\n",
    "moving_std_df = (\n",
    "        trimmed_df.lazy()\n",
    "        .with_row_index()\n",
    "        .with_columns((pl.col('index') / samples_per_window).cast(pl.Int32).alias('window'))\n",
    "        .group_by('window')\n",
    "        .agg([\n",
    "            pl.col('time').first().alias('window_start'),\n",
    "            pl.all().exclude(['time', 'index']).std().name.suffix('_std')\n",
    "        ])\n",
    "        .sort('window')\n",
    "    ).collect()"
   ]
  },
  {
   "cell_type": "code",
   "execution_count": 133,
   "metadata": {},
   "outputs": [],
   "source": [
    "moving_mean_df = (\n",
    "        trimmed_df.lazy()\n",
    "        .with_row_index()\n",
    "        .with_columns((pl.col('index') / samples_per_window).cast(pl.Int32).alias('window'))\n",
    "        .group_by('window')\n",
    "        .agg([\n",
    "            pl.col('time').first().alias('window_start'),\n",
    "            pl.all().exclude(['time', 'index']).mean().name.suffix('_mean')\n",
    "        ])\n",
    "        .sort('window')\n",
    "    ).collect()"
   ]
  },
  {
   "cell_type": "code",
   "execution_count": null,
   "metadata": {},
   "outputs": [],
   "source": [
    "import sklearn.linear_model"
   ]
  },
  {
   "cell_type": "code",
   "execution_count": 150,
   "metadata": {},
   "outputs": [
    {
     "data": {
      "text/plain": [
       "119984400"
      ]
     },
     "execution_count": 150,
     "metadata": {},
     "output_type": "execute_result"
    }
   ],
   "source": [
    "test_data.acceleration.height"
   ]
  },
  {
   "cell_type": "code",
   "execution_count": 156,
   "metadata": {},
   "outputs": [],
   "source": [
    "acc_sd = moving_std_df.select(['X_std', 'Y_std', 'Z_std'])\n",
    "acc_rm = moving_std_df.select(['X_mean', 'Y_mean', 'Z_mean'])"
   ]
  },
  {
   "cell_type": "code",
   "execution_count": 169,
   "metadata": {},
   "outputs": [],
   "source": [
    "sd_crit = 0.013\n",
    "no_motion = np.all(acc_sd < sd_crit, axis=1) & np.all(np.abs(acc_rm) < 2, axis=1)"
   ]
  },
  {
   "cell_type": "code",
   "execution_count": 170,
   "metadata": {},
   "outputs": [
    {
     "data": {
      "text/plain": [
       "array([[ True,  True,  True],\n",
       "       [ True,  True,  True],\n",
       "       [ True,  True,  True],\n",
       "       ...,\n",
       "       [ True,  True,  True],\n",
       "       [ True,  True,  True],\n",
       "       [ True,  True,  True]])"
      ]
     },
     "execution_count": 170,
     "metadata": {},
     "output_type": "execute_result"
    }
   ],
   "source": [
    "np.abs(acc_rm) <2"
   ]
  },
  {
   "cell_type": "code",
   "execution_count": 161,
   "metadata": {},
   "outputs": [],
   "source": [
    "acc_sd_nm = acc_sd.filter(no_motion)"
   ]
  },
  {
   "cell_type": "code",
   "execution_count": null,
   "metadata": {},
   "outputs": [],
   "source": []
  }
 ],
 "metadata": {
  "kernelspec": {
   "display_name": "base",
   "language": "python",
   "name": "python3"
  },
  "language_info": {
   "codemirror_mode": {
    "name": "ipython",
    "version": 3
   },
   "file_extension": ".py",
   "mimetype": "text/x-python",
   "name": "python",
   "nbconvert_exporter": "python",
   "pygments_lexer": "ipython3",
   "version": "3.11.7"
  }
 },
 "nbformat": 4,
 "nbformat_minor": 2
}
