{
 "cells": [
  {
   "cell_type": "code",
   "execution_count": null,
   "metadata": {},
   "outputs": [],
   "source": [
    "import sys\n",
    "\n",
    "sys.path.append('/Users/adam.santorelli/lib/pygt3x/')\n",
    "sys.path.append('/Users/adam.santorelli/lib/')\n",
    "sys.path.append('/Users/adam.santorelli/lib/wristpy/src/actigrapy/common/')\n",
    "sys.path.append('/Users/adam.santorelli/lib/wristpy/src/actigrapy/io/')\n",
    "sys.path.append('/Users/adam.santorelli/lib/wristpy/src/actigrapy/ggir/')\n",
    "\n",
    "import calendar\n",
    "import os\n",
    "from datetime import datetime, timedelta\n",
    "from typing import Any\n",
    "\n",
    "import numpy as np\n",
    "import pandas as pd\n",
    "import polars as pl\n",
    "\n"
   ]
  },
  {
   "cell_type": "code",
   "execution_count": null,
   "metadata": {},
   "outputs": [],
   "source": [
    "file_name = '/Users/adam.santorelli/Documents/NDARAA948VFH.gt3x'\n"
   ]
  },
  {
   "cell_type": "code",
   "execution_count": null,
   "metadata": {},
   "outputs": [],
   "source": [
    "import data_model"
   ]
  },
  {
   "cell_type": "code",
   "execution_count": null,
   "metadata": {},
   "outputs": [],
   "source": [
    "test_config = data_model.Config(file_name, file_name)"
   ]
  },
  {
   "cell_type": "code",
   "execution_count": null,
   "metadata": {},
   "outputs": [],
   "source": [
    "test_config.path_input"
   ]
  },
  {
   "cell_type": "code",
   "execution_count": null,
   "metadata": {},
   "outputs": [],
   "source": [
    "sys.path.append('/Users/adam.santorelli/lib/wristpy/src/actigrapy/io/loaders')\n",
    "import gt3x"
   ]
  },
  {
   "cell_type": "code",
   "execution_count": null,
   "metadata": {},
   "outputs": [],
   "source": [
    "test_data = gt3x.load(test_config.path_input)"
   ]
  },
  {
   "cell_type": "code",
   "execution_count": null,
   "metadata": {},
   "outputs": [],
   "source": [
    "test_data.time"
   ]
  },
  {
   "cell_type": "code",
   "execution_count": 111,
   "metadata": {},
   "outputs": [],
   "source": [
    "import metrics_calc"
   ]
  },
  {
   "cell_type": "code",
   "execution_count": 148,
   "metadata": {},
   "outputs": [],
   "source": [
    "ws = 10\n",
    "min_hours = 72"
   ]
  },
  {
   "cell_type": "code",
   "execution_count": 375,
   "metadata": {},
   "outputs": [],
   "source": [
    "from warnings import warn\n",
    "\n",
    "accel_data = test_data.acceleration\n",
    "time_data = test_data.time\n",
    "s_r = test_data.sampling_rate\n",
    "\n",
    "n10 = int(10 * s_r)  # samples in 10 seconds, not used because hardcoded 10s\n",
    "nh = int(min_hours* 3600 * s_r)  # samples in min_hours\n",
    "n12h = int(12 * 3600 * s_r)  # samples in 12 hours\n",
    "\n",
    "i_h = 0  # keep track of number of extra 12 hour blocks used\n",
    "\n",
    "    # check if enough data\n",
    "if accel_data.height < nh:\n",
    "        warn(\n",
    "            f\"Less than {min_hours} hours of data ({accel_data.height / (s_r * 3600)} hours). \"\n",
    "            f\"No Calibration performed\",\n",
    "            UserWarning,\n",
    "        )\n",
    "\n"
   ]
  },
  {
   "cell_type": "code",
   "execution_count": 376,
   "metadata": {},
   "outputs": [],
   "source": [
    "    # trim accel data\n",
    "#i_h += 1\n",
    "accel_data_trimmed = accel_data[: nh + i_h * n12h]\n",
    "time_data_trimmed = time_data[: nh + i_h * n12h]"
   ]
  },
  {
   "cell_type": "code",
   "execution_count": 377,
   "metadata": {},
   "outputs": [],
   "source": [
    "RM = metrics_calc.moving_mean(accel_data_trimmed, time_data_trimmed, s_r, 10)\n",
    "acc_rm = RM.select(['X_mean','Y_mean','Z_mean'])\n",
    "\n",
    "RSD = metrics_calc.moving_std(accel_data_trimmed, time_data_trimmed, s_r, 10)\n",
    "acc_rsd = RSD.select(['X_std','Y_std','Z_std'])"
   ]
  },
  {
   "cell_type": "code",
   "execution_count": 379,
   "metadata": {},
   "outputs": [
    {
     "data": {
      "image/png": "[encoded data removed]",
      "text/plain": [
       "<Figure size 640x480 with 1 Axes>"
      ]
     },
     "metadata": {},
     "output_type": "display_data"
    }
   ],
   "source": [
    "from matplotlib import pyplot as plt\n",
    "#plt.plot(test_data.time, accel_data['X'])\n",
    "plt.plot(RM['window_start'], np.linalg.norm(acc_rm, axis=1))\n",
    "plt.show()"
   ]
  },
  {
   "cell_type": "code",
   "execution_count": 380,
   "metadata": {},
   "outputs": [],
   "source": [
    "import sklearn.linear_model"
   ]
  },
  {
   "cell_type": "code",
   "execution_count": 381,
   "metadata": {},
   "outputs": [],
   "source": [
    "sd_crit = 0.013\n",
    "no_motion = np.all(acc_rsd < sd_crit, axis=1) & np.all(np.abs(acc_rm) < 2, axis=1)"
   ]
  },
  {
   "cell_type": "code",
   "execution_count": 382,
   "metadata": {},
   "outputs": [],
   "source": [
    "acc_rm_nm = acc_rm.filter(no_motion)\n",
    "acc_rsd_nm = acc_rsd.filter(no_motion)"
   ]
  },
  {
   "cell_type": "code",
   "execution_count": 383,
   "metadata": {},
   "outputs": [],
   "source": [
    "\n",
    "tel = 0\n",
    "for col in acc_rm_nm.columns:\n",
    "    tmp = (acc_rm_nm[col].min()< -0.3) & (acc_rm_nm[col].max() > 0.3)\n",
    "    if tmp:\n",
    "        tel = tel+1"
   ]
  },
  {
   "cell_type": "code",
   "execution_count": 384,
   "metadata": {},
   "outputs": [],
   "source": [
    "cal_err_start = np.round(np.mean(abs(np.linalg.norm(acc_rm_nm, axis=1) - 1)), decimals=5)"
   ]
  },
  {
   "cell_type": "code",
   "execution_count": 173,
   "metadata": {},
   "outputs": [],
   "source": [
    "from sklearn.linear_model import LinearRegression"
   ]
  },
  {
   "cell_type": "code",
   "execution_count": 385,
   "metadata": {},
   "outputs": [],
   "source": [
    "offset = pl.Series(np.zeros(3))\n",
    "scale = pl.Series(np.ones(3).flatten())\n",
    "tmp_scale = np.zeros((1, 3))\n",
    "\n",
    "weights = np.ones(acc_rm_nm.shape[0]) * 100\n",
    "res = [np.Inf]\n",
    "LR = LinearRegression()"
   ]
  },
  {
   "cell_type": "code",
   "execution_count": 386,
   "metadata": {},
   "outputs": [],
   "source": [
    "##Method 1\n",
    "acc_nm_pd = acc_rm_nm.to_pandas()\n",
    "curr = (acc_nm_pd* scale) + offset"
   ]
  },
  {
   "cell_type": "code",
   "execution_count": 301,
   "metadata": {},
   "outputs": [],
   "source": [
    "## Method 2\n",
    "scale = np.ones(3).reshape(3,1)\n",
    "check = acc_rm_nm.select([\n",
    "    (pl.col(column_name) * scale[i] + offset[i]).alias(column_name)\n",
    "    for i, column_name in enumerate(acc_rm_nm.columns)\n",
    "    ])\n",
    "check_pd = check.to_pandas()\n"
   ]
  },
  {
   "cell_type": "code",
   "execution_count": 387,
   "metadata": {},
   "outputs": [
    {
     "name": "stdout",
     "output_type": "stream",
     "text": [
      "shape: (3,)\n",
      "Series: '' [f64]\n",
      "[\n",
      "\t1.000222\n",
      "\t0.99345\n",
      "\t1.002266\n",
      "] shape: (3,)\n",
      "Series: '' [f64]\n",
      "[\n",
      "\t-0.000775\n",
      "\t-0.021801\n",
      "\t0.008667\n",
      "] [inf, 2.4388227054612412e-08, 1.0193514324170875e-08, 9.213381842168493e-09, 8.506831694059638e-09, 8.055885203535174e-09, 7.734642891471814e-09, 7.480847832295595e-09, 7.270695583134879e-09, 7.096054266826928e-09, 6.950140987818829e-09, 6.827554271913233e-09, 6.72490463403471e-09, 6.6380051077683075e-09, 6.5646733813322075e-09]\n"
     ]
    }
   ],
   "source": [
    "max_iter = 1000\n",
    "tol = 1e-10\n",
    "weights = np.ones(curr.shape[0]) * 100\n",
    "res = [np.Inf]\n",
    "\n",
    "for i in range(max_iter): \n",
    "    curr = (acc_nm_pd * scale) + offset\n",
    "    closest_point = curr / np.linalg.norm(curr, axis=1, keepdims=True)\n",
    "    offsetch = np.zeros(3)\n",
    "    scalech = np.ones(3)\n",
    "    \n",
    "    for k in range(3):\n",
    "                # there was some code dropping NANs from closest point, but these should\n",
    "                # be taken care of in the original mask. Division by zero should also\n",
    "                # not be happening during motionless data, where 1 value should always be close\n",
    "                # to 1\n",
    "        x_ = np.vstack(\n",
    "                    (curr.iloc[:, k])\n",
    "                )  \n",
    "        tmp_y = np.vstack(\n",
    "                    (closest_point.iloc[:, k])\n",
    "                )\n",
    "        LR.fit(x_, tmp_y, sample_weight=weights)\n",
    "\n",
    "        offsetch[k] = LR.intercept_\n",
    "        scalech[k] = LR.coef_[0]\n",
    "        curr.iloc[:, k] = x_ @ LR.coef_\n",
    "    \n",
    "    scale = scalech * scale\n",
    "    offset = offsetch + (offset/scale)\n",
    "    res.append(3 * np.mean(weights[:, None] * (curr - closest_point) ** 2 / weights.sum()))\n",
    "    weights = np.minimum(1 / np.linalg.norm(curr - closest_point, axis=1), 100)\n",
    "\n",
    "    if abs(res[i] - res[i - 1]) < tol:\n",
    "        break\n",
    "    \n",
    "print(scale, offset, res)\n"
   ]
  },
  {
   "cell_type": "code",
   "execution_count": 388,
   "metadata": {},
   "outputs": [
    {
     "data": {
      "text/plain": [
       "0.00763"
      ]
     },
     "execution_count": 388,
     "metadata": {},
     "output_type": "execute_result"
    }
   ],
   "source": [
    "\n",
    "acc_cal_pd = (acc_nm_pd* scale) + offset\n",
    "\n",
    "cal_error_end = np.around(np.mean(abs(np.linalg.norm(acc_cal_pd, axis=1) - 1)), decimals=5)\n",
    "cal_error_end"
   ]
  },
  {
   "cell_type": "code",
   "execution_count": 389,
   "metadata": {},
   "outputs": [],
   "source": [
    "accel_cal_pd = (accel_data.to_pandas() * scale) + offset"
   ]
  },
  {
   "cell_type": "code",
   "execution_count": 390,
   "metadata": {},
   "outputs": [],
   "source": [
    "## Method 2\n",
    "accel_cal = accel_data.select([\n",
    "    (pl.col(column_name) * scale[i] + offset[i]).alias(column_name)\n",
    "    for i, column_name in enumerate(accel_data.columns)\n",
    "    ])"
   ]
  },
  {
   "cell_type": "code",
   "execution_count": 391,
   "metadata": {},
   "outputs": [],
   "source": [
    "tmp = accel_cal_pd-accel_data.to_pandas()"
   ]
  },
  {
   "cell_type": "code",
   "execution_count": 1,
   "metadata": {},
   "outputs": [
    {
     "ename": "NameError",
     "evalue": "name 'plt' is not defined",
     "output_type": "error",
     "traceback": [
      "\u001b[0;31m---------------------------------------------------------------------------\u001b[0m",
      "\u001b[0;31mNameError\u001b[0m                                 Traceback (most recent call last)",
      "\u001b[1;32m/Users/adam.santorelli/lib/wristpy/tests/testing_local.ipynb Cell 30\u001b[0m line \u001b[0;36m1\n\u001b[0;32m----> <a href='vscode-notebook-cell:/Users/adam.santorelli/lib/wristpy/tests/testing_local.ipynb#Y153sZmlsZQ%3D%3D?line=0'>1</a>\u001b[0m plt\u001b[39m.\u001b[39mplot(tmp[\u001b[39m'\u001b[39m\u001b[39mX\u001b[39m\u001b[39m'\u001b[39m])\n\u001b[1;32m      <a href='vscode-notebook-cell:/Users/adam.santorelli/lib/wristpy/tests/testing_local.ipynb#Y153sZmlsZQ%3D%3D?line=1'>2</a>\u001b[0m plt\u001b[39m.\u001b[39mshow()\n",
      "\u001b[0;31mNameError\u001b[0m: name 'plt' is not defined"
     ]
    }
   ],
   "source": [
    "plt.plot(tmp['X'])\n",
    "plt.show()"
   ]
  },
  {
   "cell_type": "code",
   "execution_count": null,
   "metadata": {},
   "outputs": [],
   "source": []
  }
 ],
 "metadata": {
  "kernelspec": {
   "display_name": "base",
   "language": "python",
   "name": "python3"
  },
  "language_info": {
   "codemirror_mode": {
    "name": "ipython",
    "version": 3
   },
   "file_extension": ".py",
   "mimetype": "text/x-python",
   "name": "python",
   "nbconvert_exporter": "python",
   "pygments_lexer": "ipython3",
   "version": "3.11.7"
  }
 },
 "nbformat": 4,
 "nbformat_minor": 2
}
